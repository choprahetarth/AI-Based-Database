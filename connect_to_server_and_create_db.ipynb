{
 "cells": [
  {
   "cell_type": "code",
   "execution_count": 11,
   "metadata": {},
   "outputs": [],
   "source": [
    "# import postgresql related libraries\n",
    "import psycopg2\n"
   ]
  },
  {
   "cell_type": "code",
   "execution_count": 17,
   "metadata": {},
   "outputs": [],
   "source": [
    "# connect with the postgres instance\n",
    "conn = psycopg2.connect(\n",
    "    host=\"dpg-chs7fa64dadfn6140gf0-a.ohio-postgres.render.com\",\n",
    "    database=\"number_1_ejyg\",\n",
    "    user=\"number_1_ejyg_user\",\n",
    "    password=\"vAmatxsIhPQ1zKq23E9TWAMTKuDDNraJ\")\n",
    "\n",
    "# initiate the cursor\n",
    "cur = conn.cursor()\n",
    "# execute the query\n",
    "\n",
    "cur.execute(\"\"\"CREATE TABLE IF NOT EXISTS person\n",
    "(\n",
    "    id INT PRIMARY KEY,\n",
    "    name VARCHAR(255),\n",
    "    age INT,\n",
    "    gender CHAR\n",
    ")\"\"\"\n",
    "            )\n",
    "\n",
    "# close the connection\n",
    "conn.commit()\n",
    "cur.close()\n",
    "conn.close()"
   ]
  },
  {
   "cell_type": "code",
   "execution_count": 23,
   "metadata": {},
   "outputs": [],
   "source": [
    "# connect with the postgres instance\n",
    "conn = psycopg2.connect(\n",
    "    host=\"dpg-chs7fa64dadfn6140gf0-a.ohio-postgres.render.com\",\n",
    "    database=\"number_1_ejyg\",\n",
    "    user=\"number_1_ejyg_user\",\n",
    "    password=\"vAmatxsIhPQ1zKq23E9TWAMTKuDDNraJ\")\n",
    "\n",
    "# initiate the cursor\n",
    "cur = conn.cursor()\n",
    "# execute the query\n",
    "\n",
    "cur.execute(\"\"\"INSERT INTO person (id, name, age, gender) VALUES\n",
    "    (3,'Hetarth',25,'m'),\n",
    "    (4,'Ajay',23,'m')\"\"\")\n",
    "\n",
    "# close the connection\n",
    "conn.commit()\n",
    "cur.close()\n",
    "conn.close()"
   ]
  },
  {
   "cell_type": "code",
   "execution_count": 26,
   "metadata": {},
   "outputs": [
    {
     "name": "stdout",
     "output_type": "stream",
     "text": [
      "[(1, 'Mike', 30, 'm'), (2, 'Lisa', 30, 'f'), (3, 'Hetarth', 25, 'm'), (4, 'Ajay', 23, 'm')]\n"
     ]
    }
   ],
   "source": [
    "# connect with the postgres instance\n",
    "conn = psycopg2.connect(\n",
    "    host=\"dpg-chs7fa64dadfn6140gf0-a.ohio-postgres.render.com\",\n",
    "    database=\"number_1_ejyg\",\n",
    "    user=\"number_1_ejyg_user\",\n",
    "    password=\"vAmatxsIhPQ1zKq23E9TWAMTKuDDNraJ\")\n",
    "\n",
    "# initiate the cursor\n",
    "cur = conn.cursor()\n",
    "# execute the query\n",
    "\n",
    "cur.execute(\"\"\"SELECT * FROM person WHERE age>20;\"\"\")\n",
    "print(cur.fetchall())\n",
    "# close the connection\n",
    "conn.commit()\n",
    "cur.close()\n",
    "conn.close()"
   ]
  },
  {
   "cell_type": "code",
   "execution_count": null,
   "metadata": {},
   "outputs": [],
   "source": []
  }
 ],
 "metadata": {
  "kernelspec": {
   "display_name": "Python 3",
   "language": "python",
   "name": "python3"
  },
  "language_info": {
   "codemirror_mode": {
    "name": "ipython",
    "version": 3
   },
   "file_extension": ".py",
   "mimetype": "text/x-python",
   "name": "python",
   "nbconvert_exporter": "python",
   "pygments_lexer": "ipython3",
   "version": "3.10.4"
  },
  "orig_nbformat": 4
 },
 "nbformat": 4,
 "nbformat_minor": 2
}
