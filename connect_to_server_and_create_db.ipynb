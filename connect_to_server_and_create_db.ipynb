{
 "cells": [
  {
   "cell_type": "code",
   "execution_count": 7,
   "metadata": {},
   "outputs": [],
   "source": [
    "# import postgresql related libraries\n",
    "import psycopg2\n",
    "from faker import Faker\n",
    "import random"
   ]
  },
  {
   "cell_type": "code",
   "execution_count": 5,
   "metadata": {},
   "outputs": [],
   "source": [
    "# connect with the postgres instance\n",
    "conn = psycopg2.connect(\n",
    "    host=\"dpg-chs7fa64dadfn6140gf0-a.ohio-postgres.render.com\",\n",
    "    database=\"number_1_ejyg\",\n",
    "    user=\"number_1_ejyg_user\",\n",
    "    password=\"vAmatxsIhPQ1zKq23E9TWAMTKuDDNraJ\")\n",
    "\n",
    "# initiate the cursor\n",
    "cur = conn.cursor()\n",
    "# execute the query\n",
    "\n",
    "cur.execute(\"\"\"CREATE TABLE IF NOT EXISTS mongodb\n",
    "(\n",
    "    id SERIAL PRIMARY KEY,\n",
    "    tweet TEXT NOT NULL\n",
    ")\"\"\"\n",
    "            )\n",
    "\n",
    "cur.execute(\"\"\"CREATE TABLE IF NOT EXISTS sentiment\n",
    "(\n",
    "    id INTEGER NOT NULL,\n",
    "    sentiment BOOLEAN,\n",
    "    FOREIGN KEY (id) REFERENCES mongodb\n",
    "    (id) ON DELETE CASCADE\n",
    ")\n",
    "\"\"\")\n",
    "\n",
    "cur.execute(\"\"\"  CREATE TABLE closest_topic (\n",
    "        id INTEGER NOT NULL,\n",
    "        topic TEXT,\n",
    "        FOREIGN KEY (id) REFERENCES mongodb(id) ON DELETE CASCADE\n",
    "    );\n",
    "\"\"\")\n",
    "\n",
    "# close the connection\n",
    "conn.commit()\n",
    "cur.close()\n",
    "conn.close()"
   ]
  },
  {
   "cell_type": "code",
   "execution_count": 8,
   "metadata": {},
   "outputs": [],
   "source": [
    "# connect with the postgres instance\n",
    "conn = psycopg2.connect(\n",
    "    host=\"dpg-chs7fa64dadfn6140gf0-a.ohio-postgres.render.com\",\n",
    "    database=\"number_1_ejyg\",\n",
    "    user=\"number_1_ejyg_user\",\n",
    "    password=\"vAmatxsIhPQ1zKq23E9TWAMTKuDDNraJ\")\n",
    "# initiate the cursor\n",
    "cur = conn.cursor()\n",
    "# execute the query\n",
    "fake = Faker()\n",
    "num_samples = 10\n",
    "\n",
    "# Generate fake samples and insert them into the mongodb, sentiment, and closest_topic tables\n",
    "for _ in range(num_samples):\n",
    "    tweet = fake.text()  # Generate a random text for the tweet\n",
    "    sentiment_value = random.choice([True, False])  # Randomly assign sentiment as True or False\n",
    "    topic = fake.word()  # Generate a random text for the topic\n",
    "\n",
    "    # Insert into the mongodb table\n",
    "    cur.execute(\"INSERT INTO twitter (tweet) VALUES (%s) RETURNING id;\", (tweet,)) # returning ID means that the auto-increment ID is\n",
    "    tweet_id = cur.fetchone()[0]  #Get the id of the newly inserted tweet\n",
    "\n",
    "    # Insert into the sentiment table\n",
    "    cur.execute(\"INSERT INTO ai_sentiment_analysis (id, sentiment) VALUES (%s, %s);\", (tweet_id, sentiment_value))\n",
    "\n",
    "    # Insert into the closest_topic table\n",
    "    cur.execute(\"INSERT INTO ai_closest_topic (id, topic) VALUES (%s, %s);\", (tweet_id, topic))\n",
    "    \n",
    "# close the connection\n",
    "conn.commit()\n",
    "cur.close()\n",
    "conn.close()\n",
    "\n"
   ]
  },
  {
   "cell_type": "code",
   "execution_count": 10,
   "metadata": {},
   "outputs": [
    {
     "name": "stdout",
     "output_type": "stream",
     "text": [
      "[(1, 'Adult night black name. Understand work account significant question effort degree.'), (2, 'Old artist story government why world Mr. Local exactly enter yeah. More century cell store.\\nBut she conference group figure pull tax. Government more raise himself. Feel week drop guy full.'), (3, 'Eat move wide respond thank drive. Along certain finish actually at skin ask. Kitchen south fund five oil role total.'), (5, 'What involve power help wait industry. Wait still peace send shake specific. Listen when artist suggest well I beyond. Baby party relate visit happy wide rule.'), (10, 'Require really instead crime.\\nSituation possible employee opportunity. Toward yeah audience subject meeting international. Economy factor trouble.\\nNational money include ball hot poor present.')]\n"
     ]
    }
   ],
   "source": [
    "# connect with the postgres instance\n",
    "conn = psycopg2.connect(\n",
    "    host=\"dpg-chs7fa64dadfn6140gf0-a.ohio-postgres.render.com\",\n",
    "    database=\"number_1_ejyg\",\n",
    "    user=\"number_1_ejyg_user\",\n",
    "    password=\"vAmatxsIhPQ1zKq23E9TWAMTKuDDNraJ\")\n",
    "\n",
    "# initiate the cursor\n",
    "cur = conn.cursor()\n",
    "# execute the query\n",
    "\n",
    "# made a query where the strings are \n",
    "cur.execute(\"\"\"    \n",
    "    SELECT mongodb.id, mongodb.tweet\n",
    "    FROM mongodb\n",
    "    JOIN sentiment ON mongodb.id = sentiment.id\n",
    "    WHERE sentiment.sentiment = 't';\n",
    "    \"\"\")\n",
    "print(cur.fetchall())\n",
    "# close the connection\n",
    "conn.commit()\n",
    "cur.close()\n",
    "conn.close()"
   ]
  },
  {
   "cell_type": "code",
   "execution_count": 4,
   "metadata": {},
   "outputs": [
    {
     "ename": "OperationalError",
     "evalue": "server closed the connection unexpectedly\n\tThis probably means the server terminated abnormally\n\tbefore or while processing the request.\n",
     "output_type": "error",
     "traceback": [
      "\u001b[0;31m---------------------------------------------------------------------------\u001b[0m",
      "\u001b[0;31mOperationalError\u001b[0m                          Traceback (most recent call last)",
      "Cell \u001b[0;32mIn[4], line 13\u001b[0m\n\u001b[1;32m      9\u001b[0m cur \u001b[39m=\u001b[39m conn\u001b[39m.\u001b[39mcursor()\n\u001b[1;32m     10\u001b[0m \u001b[39m# execute the query\u001b[39;00m\n\u001b[1;32m     11\u001b[0m \n\u001b[1;32m     12\u001b[0m \u001b[39m# made a query where the strings are \u001b[39;00m\n\u001b[0;32m---> 13\u001b[0m cur\u001b[39m.\u001b[39;49mexecute(\u001b[39m\"\"\"\u001b[39;49m\u001b[39mDROP TABLE mongodb, sentiment,closest_topic ;\u001b[39;49m\u001b[39m\"\"\"\u001b[39;49m)\n\u001b[1;32m     14\u001b[0m \u001b[39m# close the connection\u001b[39;00m\n\u001b[1;32m     15\u001b[0m conn\u001b[39m.\u001b[39mcommit()\n",
      "\u001b[0;31mOperationalError\u001b[0m: server closed the connection unexpectedly\n\tThis probably means the server terminated abnormally\n\tbefore or while processing the request.\n"
     ]
    }
   ],
   "source": [
    "\n",
    "# connect with the postgres instance\n",
    "conn = psycopg2.connect(\n",
    "    host=\"dpg-chs7fa64dadfn6140gf0-a.ohio-postgres.render.com\",\n",
    "    database=\"number_1_ejyg\",\n",
    "    user=\"number_1_ejyg_user\",\n",
    "    password=\"vAmatxsIhPQ1zKq23E9TWAMTKuDDNraJ\")\n",
    "\n",
    "# initiate the cursor\n",
    "cur = conn.cursor()\n",
    "# execute the query\n",
    "\n",
    "# made a query where the strings are \n",
    "cur.execute(\"\"\"DROP TABLE mongodb, sentiment,closest_topic ;\"\"\")\n",
    "# close the connection\n",
    "conn.commit()\n",
    "cur.close()\n",
    "conn.close()"
   ]
  },
  {
   "cell_type": "code",
   "execution_count": null,
   "metadata": {},
   "outputs": [],
   "source": [
    "# read all ai tables, "
   ]
  }
 ],
 "metadata": {
  "kernelspec": {
   "display_name": "Python 3",
   "language": "python",
   "name": "python3"
  },
  "language_info": {
   "codemirror_mode": {
    "name": "ipython",
    "version": 3
   },
   "file_extension": ".py",
   "mimetype": "text/x-python",
   "name": "python",
   "nbconvert_exporter": "python",
   "pygments_lexer": "ipython3",
   "version": "3.10.4"
  },
  "orig_nbformat": 4
 },
 "nbformat": 4,
 "nbformat_minor": 2
}
