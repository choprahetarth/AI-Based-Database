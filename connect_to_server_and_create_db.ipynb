{
 "cells": [
  {
   "cell_type": "code",
   "execution_count": 10,
   "metadata": {},
   "outputs": [],
   "source": [
    "# import postgresql related libraries\n",
    "import psycopg2\n",
    "from faker import Faker\n",
    "import random"
   ]
  },
  {
   "cell_type": "code",
   "execution_count": 9,
   "metadata": {},
   "outputs": [],
   "source": [
    "# connect with the postgres instance\n",
    "conn = psycopg2.connect(\n",
    "    host=\"dpg-chs7fa64dadfn6140gf0-a.ohio-postgres.render.com\",\n",
    "    database=\"number_1_ejyg\",\n",
    "    user=\"number_1_ejyg_user\",\n",
    "    password=\"vAmatxsIhPQ1zKq23E9TWAMTKuDDNraJ\")\n",
    "\n",
    "# initiate the cursor\n",
    "cur = conn.cursor()\n",
    "# execute the query\n",
    "\n",
    "cur.execute(\"\"\"CREATE TABLE IF NOT EXISTS mongodb\n",
    "(\n",
    "    id SERIAL PRIMARY KEY,\n",
    "    tweet TEXT NOT NULL\n",
    ")\"\"\"\n",
    "            )\n",
    "\n",
    "# SERIAL datatype is automatically incremented and \n",
    "# as soon as a new data is added in tweet, the id is returned as auto-incremented\n",
    "\n",
    "\n",
    "cur.execute(\"\"\"CREATE TABLE IF NOT EXISTS sentiment\n",
    "(\n",
    "    id INTEGER NOT NULL,\n",
    "    sentiment BOOLEAN,\n",
    "    FOREIGN KEY (id) REFERENCES mongodb\n",
    "    (id) ON DELETE CASCADE\n",
    ")\n",
    "\"\"\")\n",
    "\n",
    "cur.execute(\"\"\"  CREATE TABLE closest_topic (\n",
    "        id INTEGER NOT NULL,\n",
    "        topic TEXT,\n",
    "        FOREIGN KEY (id) REFERENCES mongodb(id) ON DELETE CASCADE\n",
    "    );\n",
    "\"\"\")\n",
    "\n",
    "# close the connection\n",
    "conn.commit()\n",
    "cur.close()\n",
    "conn.close()"
   ]
  },
  {
   "cell_type": "code",
   "execution_count": 11,
   "metadata": {},
   "outputs": [],
   "source": [
    "# connect with the postgres instance\n",
    "conn = psycopg2.connect(\n",
    "    host=\"dpg-chs7fa64dadfn6140gf0-a.ohio-postgres.render.com\",\n",
    "    database=\"number_1_ejyg\",\n",
    "    user=\"number_1_ejyg_user\",\n",
    "    password=\"vAmatxsIhPQ1zKq23E9TWAMTKuDDNraJ\")\n",
    "# initiate the cursor\n",
    "cur = conn.cursor()\n",
    "# execute the query\n",
    "fake = Faker()\n",
    "num_samples = 10\n",
    "\n",
    "# Generate fake samples and insert them into the mongodb, sentiment, and closest_topic tables\n",
    "for _ in range(num_samples):\n",
    "    tweet = fake.text()  # Generate a random text for the tweet\n",
    "    sentiment_value = random.choice([True, False])  # Randomly assign sentiment as True or False\n",
    "    topic = fake.word()  # Generate a random text for the topic\n",
    "\n",
    "    # Insert into the mongodb table\n",
    "    cur.execute(\"INSERT INTO mongodb (tweet) VALUES (%s) RETURNING id;\", (tweet,)) # returning ID means that the auto-increment ID is\n",
    "    tweet_id = cur.fetchone()[0]  #Get the id of the newly inserted tweet\n",
    "\n",
    "    # Insert into the sentiment table\n",
    "    cur.execute(\"INSERT INTO sentiment (id, sentiment) VALUES (%s, %s);\", (tweet_id, sentiment_value))\n",
    "\n",
    "    # Insert into the closest_topic table\n",
    "    cur.execute(\"INSERT INTO closest_topic (id, topic) VALUES (%s, %s);\", (tweet_id, topic))\n",
    "    \n",
    "# close the connection\n",
    "conn.commit()\n",
    "cur.close()\n",
    "conn.close()\n",
    "\n"
   ]
  },
  {
   "cell_type": "code",
   "execution_count": 13,
   "metadata": {},
   "outputs": [
    {
     "name": "stdout",
     "output_type": "stream",
     "text": [
      "[(1, 'Decision six list goal may eat right tell. Drive maintain others need grow. While necessary federal myself.'), (3, 'Low mention top girl their tree market. Green happen century.\\nFinal painting energy spend grow trial. Sing special Democrat. Carry person manage television.'), (6, 'Dream teacher send hair finish. Site suddenly figure TV impact away. Popular wife much ask late forget.'), (7, 'Expect cause ahead method. Ask subject produce dream current sea art choice.'), (9, 'Management pass opportunity include garden. From manager company hair miss child.'), (10, 'Hold mouth mind draw century white feel. Lead little husband then approach size.\\nCongress out per board hear individual. Appear job discover spend series other.')]\n"
     ]
    }
   ],
   "source": [
    "# connect with the postgres instance\n",
    "conn = psycopg2.connect(\n",
    "    host=\"dpg-chs7fa64dadfn6140gf0-a.ohio-postgres.render.com\",\n",
    "    database=\"number_1_ejyg\",\n",
    "    user=\"number_1_ejyg_user\",\n",
    "    password=\"vAmatxsIhPQ1zKq23E9TWAMTKuDDNraJ\")\n",
    "\n",
    "# initiate the cursor\n",
    "cur = conn.cursor()\n",
    "# execute the query\n",
    "\n",
    "# made a query where the strings are \n",
    "cur.execute(\"\"\"    \n",
    "    SELECT mongodb.id, mongodb.tweet\n",
    "    FROM mongodb\n",
    "    JOIN sentiment ON mongodb.id = sentiment.id\n",
    "    WHERE sentiment.sentiment = 't';\n",
    "    \"\"\")\n",
    "print(cur.fetchall())\n",
    "# close the connection\n",
    "conn.commit()\n",
    "cur.close()\n",
    "conn.close()"
   ]
  },
  {
   "cell_type": "code",
   "execution_count": null,
   "metadata": {},
   "outputs": [],
   "source": []
  }
 ],
 "metadata": {
  "kernelspec": {
   "display_name": "Python 3",
   "language": "python",
   "name": "python3"
  },
  "language_info": {
   "codemirror_mode": {
    "name": "ipython",
    "version": 3
   },
   "file_extension": ".py",
   "mimetype": "text/x-python",
   "name": "python",
   "nbconvert_exporter": "python",
   "pygments_lexer": "ipython3",
   "version": "3.10.4"
  },
  "orig_nbformat": 4
 },
 "nbformat": 4,
 "nbformat_minor": 2
}
