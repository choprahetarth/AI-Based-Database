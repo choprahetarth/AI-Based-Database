{
 "cells": [
  {
   "cell_type": "code",
   "execution_count": 4,
   "metadata": {},
   "outputs": [],
   "source": [
    "# import postgresql related libraries\n",
    "import psycopg2"
   ]
  },
  {
   "cell_type": "code",
   "execution_count": 5,
   "metadata": {},
   "outputs": [],
   "source": [
    "# connect with the postgres instance\n",
    "conn = psycopg2.connect(\n",
    "    host=\"dpg-chs7fa64dadfn6140gf0-a.ohio-postgres.render.com\",\n",
    "    database=\"number_1_ejyg\",\n",
    "    user=\"number_1_ejyg_user\",\n",
    "    password=\"vAmatxsIhPQ1zKq23E9TWAMTKuDDNraJ\")\n",
    "\n",
    "# initiate the cursor\n",
    "cur = conn.cursor()\n",
    "# execute the query\n",
    "\n",
    "cur.execute(\"\"\"CREATE TABLE IF NOT EXISTS mongodb\n",
    "(\n",
    "    id INT PRIMARY KEY,\n",
    "    tweet TEXT\n",
    ")\"\"\"\n",
    "            )\n",
    "\n",
    "cur.execute(\"\"\"CREATE TABLE IF NOT EXISTS sentiment\n",
    "(\n",
    "    id INT,\n",
    "    sentiment BOOL PRIMARY KEY\n",
    ")\n",
    "\"\"\")\n",
    "\n",
    "cur.execute(\"\"\"CREATE TABLE IF NOT EXISTS closest_topic\n",
    "(\n",
    "    id INT,\n",
    "    sentiment BOOL,\n",
    "    topic TEXT\n",
    ")\n",
    "\"\"\")\n",
    "\n",
    "# close the connection\n",
    "conn.commit()\n",
    "cur.close()\n",
    "conn.close()"
   ]
  },
  {
   "cell_type": "code",
   "execution_count": 6,
   "metadata": {},
   "outputs": [],
   "source": [
    "# connect with the postgres instance\n",
    "conn = psycopg2.connect(\n",
    "    host=\"dpg-chs7fa64dadfn6140gf0-a.ohio-postgres.render.com\",\n",
    "    database=\"number_1_ejyg\",\n",
    "    user=\"number_1_ejyg_user\",\n",
    "    password=\"vAmatxsIhPQ1zKq23E9TWAMTKuDDNraJ\")\n",
    "\n",
    "# initiate the cursor\n",
    "cur = conn.cursor()\n",
    "# execute the query\n",
    "\n",
    "cur.execute(\"\"\"INSERT INTO mongodb(id, tweet) VALUES\n",
    "    (1, 'LAAAAL HAIII'),\n",
    "    (2, 'PINK HAIIII'),\n",
    "    (3 , 'GREEN HAI'),\n",
    "    (4, 'YELLOW HAIIII')\"\"\")\n",
    "\n",
    "# close the connection\n",
    "conn.commit()\n",
    "cur.close()\n",
    "conn.close()"
   ]
  },
  {
   "cell_type": "code",
   "execution_count": 8,
   "metadata": {},
   "outputs": [
    {
     "name": "stdout",
     "output_type": "stream",
     "text": [
      "[(1, 'LAAAAL HAIII'), (2, 'PINK HAIIII'), (4, 'YELLOW HAIIII')]\n"
     ]
    }
   ],
   "source": [
    "# connect with the postgres instance\n",
    "conn = psycopg2.connect(\n",
    "    host=\"dpg-chs7fa64dadfn6140gf0-a.ohio-postgres.render.com\",\n",
    "    database=\"number_1_ejyg\",\n",
    "    user=\"number_1_ejyg_user\",\n",
    "    password=\"vAmatxsIhPQ1zKq23E9TWAMTKuDDNraJ\")\n",
    "\n",
    "# initiate the cursor\n",
    "cur = conn.cursor()\n",
    "# execute the query\n",
    "\n",
    "# made a query where the length of the tweet is greater than 10\n",
    "cur.execute(\"\"\"SELECT * FROM mongodb where LENGTH(tweet)>10;\"\"\")\n",
    "print(cur.fetchall())\n",
    "# close the connection\n",
    "conn.commit()\n",
    "cur.close()\n",
    "conn.close()"
   ]
  },
  {
   "cell_type": "code",
   "execution_count": null,
   "metadata": {},
   "outputs": [],
   "source": []
  }
 ],
 "metadata": {
  "kernelspec": {
   "display_name": "Python 3",
   "language": "python",
   "name": "python3"
  },
  "language_info": {
   "codemirror_mode": {
    "name": "ipython",
    "version": 3
   },
   "file_extension": ".py",
   "mimetype": "text/x-python",
   "name": "python",
   "nbconvert_exporter": "python",
   "pygments_lexer": "ipython3",
   "version": "3.10.4"
  },
  "orig_nbformat": 4
 },
 "nbformat": 4,
 "nbformat_minor": 2
}
